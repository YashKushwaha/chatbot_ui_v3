{
 "cells": [
  {
   "cell_type": "code",
   "execution_count": 107,
   "id": "6db0249f-f7af-4fe7-a722-aedd6bf51385",
   "metadata": {},
   "outputs": [],
   "source": [
    "from llama_index.core.retrievers import BaseRetriever\n",
    "from llama_index.core.schema import QueryBundle, NodeWithScore, TextNode\n",
    "from typing import List\n",
    "import numpy as np"
   ]
  },
  {
   "cell_type": "code",
   "execution_count": 108,
   "id": "0a6b3228-2ccb-46d8-b79f-1d9e6896163d",
   "metadata": {},
   "outputs": [],
   "source": [
    "from llama_index.core import VectorStoreIndex\n",
    "from llama_index.vector_stores.chroma import ChromaVectorStore"
   ]
  },
  {
   "cell_type": "code",
   "execution_count": 109,
   "id": "2ef10fc2-1c38-485e-a7c9-3b8e86dbbc7f",
   "metadata": {},
   "outputs": [],
   "source": [
    "import chromadb\n",
    "CHROMA_DB_PORT = 8010\n",
    "def get_chroma_db_client():\n",
    "    client = chromadb.HttpClient(\n",
    "        host=\"localhost\",\n",
    "        port=int(CHROMA_DB_PORT))\n",
    "    return client"
   ]
  },
  {
   "cell_type": "code",
   "execution_count": 110,
   "id": "43e6caee-f8ec-4450-86de-9ff272f20f36",
   "metadata": {},
   "outputs": [],
   "source": [
    "import os\n",
    "PROJECT_ROOT = os.path.abspath(os.path.join(os.getcwd(), '..'))\n",
    "os.chdir(PROJECT_ROOT)"
   ]
  },
  {
   "cell_type": "code",
   "execution_count": 111,
   "id": "8f5590e6-e315-4b70-be77-969d6fb76ec3",
   "metadata": {},
   "outputs": [],
   "source": [
    "from src.embedding_client import RemoteEmbedding"
   ]
  },
  {
   "cell_type": "code",
   "execution_count": 112,
   "id": "d543e056-4db1-4bee-981e-ee65d44ac328",
   "metadata": {},
   "outputs": [],
   "source": [
    "EMBEDDING_SERVER_PORT = 8020\n",
    "embed_model = RemoteEmbedding(f\"http://localhost:{EMBEDDING_SERVER_PORT}\")"
   ]
  },
  {
   "cell_type": "code",
   "execution_count": 113,
   "id": "04ecc962-7be9-447e-9ca7-32ad3ae68cc7",
   "metadata": {},
   "outputs": [],
   "source": [
    "client = get_chroma_db_client()"
   ]
  },
  {
   "cell_type": "code",
   "execution_count": 114,
   "id": "bc69fe80-fdfe-487c-ab5e-b1f1d4e61f14",
   "metadata": {},
   "outputs": [
    {
     "name": "stdout",
     "output_type": "stream",
     "text": [
      "Collection(name=qna) 130319\n",
      "Collection(name=context) 19029\n"
     ]
    }
   ],
   "source": [
    "for i in client.list_collections():\n",
    "    print(i, i.count())\n",
    "    #client.delete_collection(i.name)"
   ]
  },
  {
   "cell_type": "code",
   "execution_count": 115,
   "id": "5bd8eb3f-526b-4d20-9173-b067ce0a8561",
   "metadata": {},
   "outputs": [],
   "source": [
    "#client.delete_collection(i.name)"
   ]
  },
  {
   "cell_type": "code",
   "execution_count": 116,
   "id": "53404119-df2b-4d06-b4c5-be9a124da89c",
   "metadata": {},
   "outputs": [],
   "source": [
    "collection = client.get_collection('qna')"
   ]
  },
  {
   "cell_type": "code",
   "execution_count": 117,
   "id": "a5449fab-bac7-4d8a-a4d5-76e1523ec189",
   "metadata": {},
   "outputs": [],
   "source": [
    "results = collection.get(include=[\"documents\", \"metadatas\"], limit=2)"
   ]
  },
  {
   "cell_type": "code",
   "execution_count": 118,
   "id": "cfe7868e-93e3-4aca-97cb-20e7a8653526",
   "metadata": {},
   "outputs": [
    {
     "data": {
      "text/plain": [
       "{'ids': ['56be85543aeaaa14008c9063', '56be85543aeaaa14008c9065'],\n",
       " 'embeddings': None,\n",
       " 'metadatas': [{'title': 'Beyoncé',\n",
       "   'answer': 'in the late 1990s',\n",
       "   'database': 'chatbot_ui_v3',\n",
       "   'collection': 'qna',\n",
       "   'context_hash': '5566f9c0998385b8a8a2c94aa64aa980'},\n",
       "  {'answer': 'singing and dancing',\n",
       "   'context_hash': '5566f9c0998385b8a8a2c94aa64aa980',\n",
       "   'collection': 'qna',\n",
       "   'database': 'chatbot_ui_v3',\n",
       "   'title': 'Beyoncé'}],\n",
       " 'documents': ['When did Beyonce start becoming popular?',\n",
       "  'What areas did Beyonce compete in when she was growing up?'],\n",
       " 'data': None,\n",
       " 'uris': None,\n",
       " 'included': ['documents', 'metadatas']}"
      ]
     },
     "execution_count": 118,
     "metadata": {},
     "output_type": "execute_result"
    }
   ],
   "source": [
    "results"
   ]
  },
  {
   "cell_type": "code",
   "execution_count": 119,
   "id": "c1172b23-82da-4a7a-b572-0765e98d1bf4",
   "metadata": {},
   "outputs": [],
   "source": [
    "vec_store_qna = ChromaVectorStore(chroma_collection = collection)"
   ]
  },
  {
   "cell_type": "code",
   "execution_count": 121,
   "id": "a74df481-c7d1-41eb-a29c-e43d10b79802",
   "metadata": {},
   "outputs": [
    {
     "name": "stdout",
     "output_type": "stream",
     "text": [
      "dict_keys(['ids', 'embeddings', 'metadatas', 'documents', 'data', 'uris', 'included'])\n",
      "Document 0: When did Beyonce start becoming popular?\n",
      "Metadata: {'title': 'Beyoncé', 'context_hash': '5566f9c0998385b8a8a2c94aa64aa980', 'database': 'chatbot_ui_v3', 'collection': 'qna', 'answer': 'in the late 1990s'}\n",
      "\n",
      "Document 1: What areas did Beyonce compete in when she was growing up?\n",
      "Metadata: {'collection': 'qna', 'title': 'Beyoncé', 'context_hash': '5566f9c0998385b8a8a2c94aa64aa980', 'answer': 'singing and dancing', 'database': 'chatbot_ui_v3'}\n",
      "\n",
      "Document 2: When did Beyonce leave Destiny's Child and become a solo singer?\n",
      "Metadata: {'title': 'Beyoncé', 'database': 'chatbot_ui_v3', 'context_hash': '5566f9c0998385b8a8a2c94aa64aa980', 'collection': 'qna', 'answer': '2003'}\n",
      "\n",
      "Document 3: In what city and state did Beyonce  grow up? \n",
      "Metadata: {'title': 'Beyoncé', 'database': 'chatbot_ui_v3', 'context_hash': '5566f9c0998385b8a8a2c94aa64aa980', 'answer': 'Houston, Texas', 'collection': 'qna'}\n",
      "\n"
     ]
    }
   ],
   "source": [
    "# Fetch stored documents and metadata from Chroma\n",
    "results = collection.get(\n",
    "    include=[\"metadatas\", \"documents\"],\n",
    ")\n",
    "\n",
    "# Inspect what's stored\n",
    "print(results.keys())  # Should show: dict_keys(['ids', 'metadatas', 'documents'])\n",
    "\n",
    "# Example: Print text and metadata for each stored record\n",
    "\n",
    "for idx, doc in enumerate(results[\"documents\"]):\n",
    "    print(f\"Document {idx}: {doc}\")\n",
    "    print(f\"Metadata: {results['metadatas'][idx]}\\n\")\n",
    "    if idx >2:\n",
    "        break\n"
   ]
  },
  {
   "cell_type": "code",
   "execution_count": 122,
   "id": "1bedc383-6e64-4aa8-b184-29753fc2b6be",
   "metadata": {},
   "outputs": [
    {
     "name": "stdout",
     "output_type": "stream",
     "text": [
      "384 <class 'list'>\n"
     ]
    }
   ],
   "source": [
    "query = 'Where did beyonce grow up?'\n",
    "query_embedding =  embed_model._get_text_embedding(query)\n",
    "print(len(query_embedding), type(query_embedding))"
   ]
  },
  {
   "cell_type": "code",
   "execution_count": null,
   "id": "21fa0abb-5a8b-4950-b487-60e3e4651d64",
   "metadata": {},
   "outputs": [],
   "source": [
    "# We cant directly pass query_embedding to llama index vec db"
   ]
  },
  {
   "cell_type": "code",
   "execution_count": 123,
   "id": "4fd3084b-9dc0-4e3f-859f-379961a59be0",
   "metadata": {},
   "outputs": [],
   "source": [
    "from llama_index.core.vector_stores.types import VectorStoreQuery"
   ]
  },
  {
   "cell_type": "code",
   "execution_count": 124,
   "id": "b48b07ea-4327-4ed7-ace0-ae3384749d73",
   "metadata": {},
   "outputs": [],
   "source": [
    "store_query = VectorStoreQuery(\n",
    "    query_embedding=query_embedding,\n",
    "    similarity_top_k=3,  # Number of results you want\n",
    ")"
   ]
  },
  {
   "cell_type": "code",
   "execution_count": 125,
   "id": "2186ed3f-a3aa-4799-b21d-159954c31526",
   "metadata": {},
   "outputs": [],
   "source": [
    "results  = vec_store_qna.query(store_query)"
   ]
  },
  {
   "cell_type": "code",
   "execution_count": 126,
   "id": "d0344f02-8a76-4724-bd48-3f7e84562ce8",
   "metadata": {},
   "outputs": [
    {
     "data": {
      "text/plain": [
       "VectorStoreQueryResult(nodes=[TextNode(id_='56bf6b0f3aeaaa14008c9601', embedding=None, metadata={'context_hash': '5566f9c0998385b8a8a2c94aa64aa980', 'collection': 'qna', 'title': 'Beyoncé', 'database': 'chatbot_ui_v3', 'answer': 'Houston, Texas'}, excluded_embed_metadata_keys=[], excluded_llm_metadata_keys=[], relationships={}, metadata_template='{key}: {value}', metadata_separator='\\n', text='In what city and state did Beyonce  grow up? ', mimetype='text/plain', start_char_idx=None, end_char_idx=None, metadata_seperator='\\n', text_template='{metadata_str}\\n\\n{content}'), TextNode(id_='56be85543aeaaa14008c9065', embedding=None, metadata={'answer': 'singing and dancing', 'database': 'chatbot_ui_v3', 'title': 'Beyoncé', 'collection': 'qna', 'context_hash': '5566f9c0998385b8a8a2c94aa64aa980'}, excluded_embed_metadata_keys=[], excluded_llm_metadata_keys=[], relationships={}, metadata_template='{key}: {value}', metadata_separator='\\n', text='What areas did Beyonce compete in when she was growing up?', mimetype='text/plain', start_char_idx=None, end_char_idx=None, metadata_seperator='\\n', text_template='{metadata_str}\\n\\n{content}'), TextNode(id_='56d43c5f2ccc5a1400d830a9', embedding=None, metadata={'title': 'Beyoncé', 'answer': 'late 1990s', 'collection': 'qna', 'context_hash': '5566f9c0998385b8a8a2c94aa64aa980', 'database': 'chatbot_ui_v3'}, excluded_embed_metadata_keys=[], excluded_llm_metadata_keys=[], relationships={}, metadata_template='{key}: {value}', metadata_separator='\\n', text='When did Beyoncé rise to fame?', mimetype='text/plain', start_char_idx=None, end_char_idx=None, metadata_seperator='\\n', text_template='{metadata_str}\\n\\n{content}')], similarities=[0.8588517725815735, 0.7284380971383865, 0.6890149087215783], ids=['56bf6b0f3aeaaa14008c9601', '56be85543aeaaa14008c9065', '56d43c5f2ccc5a1400d830a9'])"
      ]
     },
     "execution_count": 126,
     "metadata": {},
     "output_type": "execute_result"
    }
   ],
   "source": [
    "results"
   ]
  },
  {
   "cell_type": "code",
   "execution_count": 40,
   "id": "49374aac-a827-4d63-bab4-3fe6b128f0be",
   "metadata": {},
   "outputs": [
    {
     "name": "stdout",
     "output_type": "stream",
     "text": [
      "{'id_': '56bf6b0f3aeaaa14008c9601', 'embedding': None, 'metadata': {'answer': 'Houston, Texas', 'context_hash': '5566f9c0998385b8a8a2c94aa64aa980', 'title': 'Beyoncé'}, 'excluded_embed_metadata_keys': [], 'excluded_llm_metadata_keys': [], 'relationships': {}, 'metadata_template': '{key}: {value}', 'metadata_separator': '\\n', 'text': 'In what city and state did Beyonce  grow up? ', 'mimetype': 'text/plain', 'start_char_idx': None, 'end_char_idx': None, 'metadata_seperator': '\\n', 'text_template': '{metadata_str}\\n\\n{content}'}\n",
      "=====\n",
      "{'id_': '56be85543aeaaa14008c9065', 'embedding': None, 'metadata': {'answer': 'singing and dancing', 'context_hash': '5566f9c0998385b8a8a2c94aa64aa980', 'title': 'Beyoncé'}, 'excluded_embed_metadata_keys': [], 'excluded_llm_metadata_keys': [], 'relationships': {}, 'metadata_template': '{key}: {value}', 'metadata_separator': '\\n', 'text': 'What areas did Beyonce compete in when she was growing up?', 'mimetype': 'text/plain', 'start_char_idx': None, 'end_char_idx': None, 'metadata_seperator': '\\n', 'text_template': '{metadata_str}\\n\\n{content}'}\n",
      "=====\n",
      "{'id_': '56d43c5f2ccc5a1400d830a9', 'embedding': None, 'metadata': {'title': 'Beyoncé', 'context_hash': '5566f9c0998385b8a8a2c94aa64aa980', 'answer': 'late 1990s'}, 'excluded_embed_metadata_keys': [], 'excluded_llm_metadata_keys': [], 'relationships': {}, 'metadata_template': '{key}: {value}', 'metadata_separator': '\\n', 'text': 'When did Beyoncé rise to fame?', 'mimetype': 'text/plain', 'start_char_idx': None, 'end_char_idx': None, 'metadata_seperator': '\\n', 'text_template': '{metadata_str}\\n\\n{content}'}\n",
      "=====\n",
      "Node ID: 56d43c5f2ccc5a1400d830a9\n",
      "Text: When did Beyoncé rise to fame?\n"
     ]
    }
   ],
   "source": [
    "for node in results.nodes:\n",
    "    print(node.__dict__)\n",
    "    print(5*'=')\n",
    "\n",
    "print(node)"
   ]
  },
  {
   "cell_type": "code",
   "execution_count": 20,
   "id": "3a352f1e-0084-4d82-a35a-05546c0b1a06",
   "metadata": {},
   "outputs": [
    {
     "name": "stdout",
     "output_type": "stream",
     "text": [
      "Help on method query in module llama_index.vector_stores.chroma.base:\n",
      "\n",
      "query(query: llama_index.core.vector_stores.types.VectorStoreQuery, **kwargs: Any) -> llama_index.core.vector_stores.types.VectorStoreQueryResult method of llama_index.vector_stores.chroma.base.ChromaVectorStore instance\n",
      "    Query index for top k most similar nodes.\n",
      "    \n",
      "    Args:\n",
      "        query_embedding (List[float]): query embedding\n",
      "        similarity_top_k (int): top k most similar nodes\n",
      "\n"
     ]
    }
   ],
   "source": [
    "help(vec_store_qna.query)"
   ]
  },
  {
   "cell_type": "code",
   "execution_count": 42,
   "id": "691fc625-ce83-43e2-802f-c73f0d57a138",
   "metadata": {},
   "outputs": [],
   "source": [
    "from llama_index.core.retrievers import VectorIndexRetriever\n",
    "from llama_index.core import VectorStoreIndex"
   ]
  },
  {
   "cell_type": "code",
   "execution_count": 45,
   "id": "ffd63c75-2752-4782-a8a5-d81463a41a20",
   "metadata": {},
   "outputs": [
    {
     "name": "stdout",
     "output_type": "stream",
     "text": [
      "Help on method from_vector_store in module llama_index.core.indices.vector_store.base:\n",
      "\n",
      "from_vector_store(vector_store: llama_index.core.vector_stores.types.BasePydanticVectorStore, embed_model: Union[llama_index.core.base.embeddings.base.BaseEmbedding, ForwardRef('LCEmbeddings'), str, NoneType] = None, **kwargs: Any) -> 'VectorStoreIndex' method of abc.ABCMeta instance\n",
      "\n"
     ]
    }
   ],
   "source": [
    "help(VectorStoreIndex.from_vector_store)"
   ]
  },
  {
   "cell_type": "code",
   "execution_count": 47,
   "id": "c7a6741f-506f-428c-8c0d-0960db1fbf5c",
   "metadata": {},
   "outputs": [],
   "source": [
    "index = VectorStoreIndex.from_vector_store(vec_store_qna, embed_model=embed_model)"
   ]
  },
  {
   "cell_type": "code",
   "execution_count": 49,
   "id": "a38e0ec5-9dcb-40d1-a51b-0f92dc3d3151",
   "metadata": {},
   "outputs": [],
   "source": [
    "retriever = VectorIndexRetriever(\n",
    "    index=index,  # Index linked to your ChromaVectorStore\n",
    "    similarity_top_k=5\n",
    ")"
   ]
  },
  {
   "cell_type": "code",
   "execution_count": 55,
   "id": "f0b4f660-ac7f-41b0-863c-ef30d8cdaada",
   "metadata": {},
   "outputs": [
    {
     "name": "stdout",
     "output_type": "stream",
     "text": [
      "{'node': TextNode(id_='56bf6b0f3aeaaa14008c9601', embedding=None, metadata={'answer': 'Houston, Texas', 'title': 'Beyoncé', 'context_hash': '5566f9c0998385b8a8a2c94aa64aa980'}, excluded_embed_metadata_keys=[], excluded_llm_metadata_keys=[], relationships={}, metadata_template='{key}: {value}', metadata_separator='\\n', text='In what city and state did Beyonce  grow up? ', mimetype='text/plain', start_char_idx=None, end_char_idx=None, metadata_seperator='\\n', text_template='{metadata_str}\\n\\n{content}'), 'score': 0.8588517725815735}\n",
      "=====\n",
      "{'node': TextNode(id_='56be85543aeaaa14008c9065', embedding=None, metadata={'title': 'Beyoncé', 'context_hash': '5566f9c0998385b8a8a2c94aa64aa980', 'answer': 'singing and dancing'}, excluded_embed_metadata_keys=[], excluded_llm_metadata_keys=[], relationships={}, metadata_template='{key}: {value}', metadata_separator='\\n', text='What areas did Beyonce compete in when she was growing up?', mimetype='text/plain', start_char_idx=None, end_char_idx=None, metadata_seperator='\\n', text_template='{metadata_str}\\n\\n{content}'), 'score': 0.7284380971383865}\n",
      "=====\n",
      "{'node': TextNode(id_='56d43c5f2ccc5a1400d830a9', embedding=None, metadata={'answer': 'late 1990s', 'context_hash': '5566f9c0998385b8a8a2c94aa64aa980', 'title': 'Beyoncé'}, excluded_embed_metadata_keys=[], excluded_llm_metadata_keys=[], relationships={}, metadata_template='{key}: {value}', metadata_separator='\\n', text='When did Beyoncé rise to fame?', mimetype='text/plain', start_char_idx=None, end_char_idx=None, metadata_seperator='\\n', text_template='{metadata_str}\\n\\n{content}'), 'score': 0.6890149087215783}\n",
      "=====\n",
      "{'node': TextNode(id_='56bfaa11a10cfb1400551219', embedding=None, metadata={'title': 'Beyoncé', 'answer': 'Paris', 'context_hash': '71f352140878f8f4f38e27173efbd5a7'}, excluded_embed_metadata_keys=[], excluded_llm_metadata_keys=[], relationships={}, metadata_template='{key}: {value}', metadata_separator='\\n', text='Where was Beyonce when she became pregnant?', mimetype='text/plain', start_char_idx=None, end_char_idx=None, metadata_seperator='\\n', text_template='{metadata_str}\\n\\n{content}'), 'score': 0.6649456706064095}\n",
      "=====\n",
      "{'node': TextNode(id_='56bea5f23aeaaa14008c91a2', embedding=None, metadata={'title': 'Beyoncé', 'context_hash': '71f352140878f8f4f38e27173efbd5a7', 'answer': 'Paris'}, excluded_embed_metadata_keys=[], excluded_llm_metadata_keys=[], relationships={}, metadata_template='{key}: {value}', metadata_separator='\\n', text='Where did Beyonce become pregnant?', mimetype='text/plain', start_char_idx=None, end_char_idx=None, metadata_seperator='\\n', text_template='{metadata_str}\\n\\n{content}'), 'score': 0.6596501039953818}\n",
      "=====\n"
     ]
    }
   ],
   "source": [
    "query = 'Where did beyonce grow up?'\n",
    "for i in retriever.retrieve(query):\n",
    "    print(i.__dict__)\n",
    "    print(5*'=')"
   ]
  },
  {
   "cell_type": "code",
   "execution_count": 59,
   "id": "13458f01-e59b-4b1e-89f3-74082923ca5b",
   "metadata": {},
   "outputs": [],
   "source": [
    "from llama_index.vector_stores.chroma import ChromaVectorStore\n",
    "\n",
    "from llama_index.core.retrievers import VectorIndexRetriever\n",
    "from llama_index.core import VectorStoreIndex\n",
    "\n",
    "def get_retriever(chroma_collection, embed_model, similarity_top_k=3):\n",
    "    vec_store = ChromaVectorStore(chroma_collection = chroma_collection)\n",
    "    index = VectorStoreIndex.from_vector_store(vec_store, embed_model=embed_model)\n",
    "    retriever = VectorIndexRetriever(\n",
    "            index=index,\n",
    "            similarity_top_k=similarity_top_k\n",
    "        )\n",
    "    return retriever"
   ]
  },
  {
   "cell_type": "code",
   "execution_count": 60,
   "id": "f759dc70-8d0d-44d6-9b70-25ae12a2366e",
   "metadata": {},
   "outputs": [],
   "source": [
    "context_collection = client.get_collection('context')\n",
    "qna_collection = client.get_collection('qna')\n",
    "\n",
    "context_retriever = get_retriever(chroma_collection=context_collection, embed_model=embed_model, similarity_top_k=3)\n",
    "qna_collection = get_retriever(chroma_collection=qna_collection, embed_model=embed_model, similarity_top_k=3)"
   ]
  },
  {
   "cell_type": "code",
   "execution_count": 63,
   "id": "4ce6097d-fa5d-43e7-8810-8d0df24a2396",
   "metadata": {},
   "outputs": [],
   "source": [
    "query = 'Where did beyonce grow up?'\n",
    "context_node = context_retriever.retrieve(query)\n",
    "qna_nodes = qna_collection.retrieve(query)"
   ]
  },
  {
   "cell_type": "code",
   "execution_count": 65,
   "id": "becf8620-b048-4832-a40f-2b15b8a2011c",
   "metadata": {},
   "outputs": [],
   "source": [
    "combined_nodes = context_node + qna_nodes"
   ]
  },
  {
   "cell_type": "code",
   "execution_count": 68,
   "id": "d55da677-65ae-48e1-9b05-892f07ec09b6",
   "metadata": {},
   "outputs": [],
   "source": [
    "reranked_results = sorted(combined_nodes, key=lambda node: node.score, reverse=True)"
   ]
  },
  {
   "cell_type": "code",
   "execution_count": 72,
   "id": "a85ddf43-1931-4471-ae3d-2da1a2e50edc",
   "metadata": {},
   "outputs": [
    {
     "name": "stdout",
     "output_type": "stream",
     "text": [
      "Node ID: 56bf6b0f3aeaaa14008c9601\n",
      "Text: In what city and state did Beyonce  grow up?\n",
      "Score:  0.859\n",
      "\n",
      "-----\n",
      "{'node': TextNode(id_='56bf6b0f3aeaaa14008c9601', embedding=None, metadata={'title': 'Beyoncé', 'answer': 'Houston, Texas', 'context_hash': '5566f9c0998385b8a8a2c94aa64aa980'}, excluded_embed_metadata_keys=[], excluded_llm_metadata_keys=[], relationships={}, metadata_template='{key}: {value}', metadata_separator='\\n', text='In what city and state did Beyonce  grow up? ', mimetype='text/plain', start_char_idx=None, end_char_idx=None, metadata_seperator='\\n', text_template='{metadata_str}\\n\\n{content}'), 'score': 0.8588517725815735}\n",
      "=====\n",
      "Node ID: 56be85543aeaaa14008c9065\n",
      "Text: What areas did Beyonce compete in when she was growing up?\n",
      "Score:  0.728\n",
      "\n",
      "-----\n",
      "{'node': TextNode(id_='56be85543aeaaa14008c9065', embedding=None, metadata={'context_hash': '5566f9c0998385b8a8a2c94aa64aa980', 'answer': 'singing and dancing', 'title': 'Beyoncé'}, excluded_embed_metadata_keys=[], excluded_llm_metadata_keys=[], relationships={}, metadata_template='{key}: {value}', metadata_separator='\\n', text='What areas did Beyonce compete in when she was growing up?', mimetype='text/plain', start_char_idx=None, end_char_idx=None, metadata_seperator='\\n', text_template='{metadata_str}\\n\\n{content}'), 'score': 0.7284380971383865}\n",
      "=====\n",
      "Node ID: 56d43c5f2ccc5a1400d830a9\n",
      "Text: When did Beyoncé rise to fame?\n",
      "Score:  0.689\n",
      "\n",
      "-----\n",
      "{'node': TextNode(id_='56d43c5f2ccc5a1400d830a9', embedding=None, metadata={'title': 'Beyoncé', 'context_hash': '5566f9c0998385b8a8a2c94aa64aa980', 'answer': 'late 1990s'}, excluded_embed_metadata_keys=[], excluded_llm_metadata_keys=[], relationships={}, metadata_template='{key}: {value}', metadata_separator='\\n', text='When did Beyoncé rise to fame?', mimetype='text/plain', start_char_idx=None, end_char_idx=None, metadata_seperator='\\n', text_template='{metadata_str}\\n\\n{content}'), 'score': 0.6890149087215783}\n",
      "=====\n",
      "Node ID: f43752de47803d959a74690e1989544d\n",
      "Text: On January 7, 2012, Beyoncé gave birth to her first child, a\n",
      "daughter, Blue Ivy Carter, at Lenox Hill Hospital in New York. Five\n",
      "months later, she performed for four nights at Revel Atlantic City's\n",
      "Ovation Hall to celebrate the resort's opening, her first performances\n",
      "since giving birth to Blue Ivy.\n",
      "Score:  0.429\n",
      "\n",
      "-----\n",
      "{'node': TextNode(id_='f43752de47803d959a74690e1989544d', embedding=None, metadata={'context_hash': 'f43752de47803d959a74690e1989544d', 'title': 'Beyoncé'}, excluded_embed_metadata_keys=[], excluded_llm_metadata_keys=[], relationships={}, metadata_template='{key}: {value}', metadata_separator='\\n', text=\"On January 7, 2012, Beyoncé gave birth to her first child, a daughter, Blue Ivy Carter, at Lenox Hill Hospital in New York. Five months later, she performed for four nights at Revel Atlantic City's Ovation Hall to celebrate the resort's opening, her first performances since giving birth to Blue Ivy.\", mimetype='text/plain', start_char_idx=None, end_char_idx=None, metadata_seperator='\\n', text_template='{metadata_str}\\n\\n{content}'), 'score': 0.4292344954285744}\n",
      "=====\n",
      "Node ID: 9416bece77bd0d876cb5ac8df8bd4ad5\n",
      "Text: Beyoncé Giselle Knowles was born in Houston, Texas, to Celestine\n",
      "Ann \"Tina\" Knowles (née Beyincé), a hairdresser and salon owner, and\n",
      "Mathew Knowles, a Xerox sales manager. Beyoncé's name is a tribute to\n",
      "her mother's maiden name. Beyoncé's younger sister Solange is also a\n",
      "singer and a former member of Destiny's Child. Mathew is African-\n",
      "American,...\n",
      "Score:  0.425\n",
      "\n",
      "-----\n",
      "{'node': TextNode(id_='9416bece77bd0d876cb5ac8df8bd4ad5', embedding=None, metadata={'title': 'Beyoncé', 'context_hash': '9416bece77bd0d876cb5ac8df8bd4ad5'}, excluded_embed_metadata_keys=[], excluded_llm_metadata_keys=[], relationships={}, metadata_template='{key}: {value}', metadata_separator='\\n', text='Beyoncé Giselle Knowles was born in Houston, Texas, to Celestine Ann \"Tina\" Knowles (née Beyincé), a hairdresser and salon owner, and Mathew Knowles, a Xerox sales manager. Beyoncé\\'s name is a tribute to her mother\\'s maiden name. Beyoncé\\'s younger sister Solange is also a singer and a former member of Destiny\\'s Child. Mathew is African-American, while Tina is of Louisiana Creole descent (with African, Native American, French, Cajun, and distant Irish and Spanish ancestry). Through her mother, Beyoncé is a descendant of Acadian leader Joseph Broussard. She was raised in a Methodist household.', mimetype='text/plain', start_char_idx=None, end_char_idx=None, metadata_seperator='\\n', text_template='{metadata_str}\\n\\n{content}'), 'score': 0.4245681857920706}\n",
      "=====\n",
      "Node ID: efc9b773f72c1de48dfbebfc96777d69\n",
      "Text: Beyoncé announced a hiatus from her music career in January\n",
      "2010, heeding her mother's advice, \"to live life, to be inspired by\n",
      "things again\". During the break she and her father parted ways as\n",
      "business partners. Beyoncé's musical break lasted nine months and saw\n",
      "her visit multiple European cities, the Great Wall of China, the\n",
      "Egyptian pyramids,...\n",
      "Score:  0.408\n",
      "\n",
      "-----\n",
      "{'node': TextNode(id_='efc9b773f72c1de48dfbebfc96777d69', embedding=None, metadata={'title': 'Beyoncé', 'context_hash': 'efc9b773f72c1de48dfbebfc96777d69'}, excluded_embed_metadata_keys=[], excluded_llm_metadata_keys=[], relationships={}, metadata_template='{key}: {value}', metadata_separator='\\n', text='Beyoncé announced a hiatus from her music career in January 2010, heeding her mother\\'s advice, \"to live life, to be inspired by things again\". During the break she and her father parted ways as business partners. Beyoncé\\'s musical break lasted nine months and saw her visit multiple European cities, the Great Wall of China, the Egyptian pyramids, Australia, English music festivals and various museums and ballet performances.', mimetype='text/plain', start_char_idx=None, end_char_idx=None, metadata_seperator='\\n', text_template='{metadata_str}\\n\\n{content}'), 'score': 0.40793097410741114}\n",
      "=====\n"
     ]
    }
   ],
   "source": [
    "for i in reranked_results:\n",
    "    print(i)\n",
    "    print(5*'-')\n",
    "    print(i.__dict__)\n",
    "    print(5*'=')"
   ]
  }
 ],
 "metadata": {
  "kernelspec": {
   "display_name": "Python 3 (ipykernel)",
   "language": "python",
   "name": "python3"
  },
  "language_info": {
   "codemirror_mode": {
    "name": "ipython",
    "version": 3
   },
   "file_extension": ".py",
   "mimetype": "text/x-python",
   "name": "python",
   "nbconvert_exporter": "python",
   "pygments_lexer": "ipython3",
   "version": "3.10.12"
  }
 },
 "nbformat": 4,
 "nbformat_minor": 5
}
