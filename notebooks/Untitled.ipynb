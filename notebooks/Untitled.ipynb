{
 "cells": [
  {
   "cell_type": "code",
   "execution_count": 1,
   "id": "6361d55c-6c0d-48b3-b78b-800bd0230a32",
   "metadata": {},
   "outputs": [],
   "source": [
    "import os\n",
    "PROJECT_ROOT = os.path.abspath(os.path.join(os.getcwd(), '..'))\n",
    "os.chdir(PROJECT_ROOT)"
   ]
  },
  {
   "cell_type": "code",
   "execution_count": 2,
   "id": "f9367c8b-56ab-4342-827d-3c580eb18ba9",
   "metadata": {},
   "outputs": [],
   "source": [
    "from src.custom_agent import get_agent"
   ]
  },
  {
   "cell_type": "code",
   "execution_count": 4,
   "id": "e9b40c0e-5452-4d91-b52e-b8ff716108ae",
   "metadata": {},
   "outputs": [
    {
     "ename": "ValueError",
     "evalue": "\"CustomPostProcessor\" object has no field \"doc_store\"",
     "output_type": "error",
     "traceback": [
      "\u001b[0;31m---------------------------------------------------------------------------\u001b[0m",
      "\u001b[0;31mValueError\u001b[0m                                Traceback (most recent call last)",
      "Cell \u001b[0;32mIn[4], line 1\u001b[0m\n\u001b[0;32m----> 1\u001b[0m agent \u001b[38;5;241m=\u001b[39m \u001b[43mget_agent\u001b[49m\u001b[43m(\u001b[49m\u001b[43m)\u001b[49m\n",
      "File \u001b[0;32m/mnt/f/chatbot_ui_v3/src/custom_agent.py:47\u001b[0m, in \u001b[0;36mget_agent\u001b[0;34m()\u001b[0m\n\u001b[1;32m     45\u001b[0m mongodb_client \u001b[38;5;241m=\u001b[39m get_mongo_db_client()\n\u001b[1;32m     46\u001b[0m doc_store \u001b[38;5;241m=\u001b[39m mongodb_client[\u001b[38;5;124m'\u001b[39m\u001b[38;5;124mchatbot_ui_v3\u001b[39m\u001b[38;5;124m'\u001b[39m][\u001b[38;5;124m'\u001b[39m\u001b[38;5;124mcontext\u001b[39m\u001b[38;5;124m'\u001b[39m]\n\u001b[0;32m---> 47\u001b[0m postprocessor \u001b[38;5;241m=\u001b[39m \u001b[43mCustomPostProcessor\u001b[49m\u001b[43m(\u001b[49m\u001b[43mdoc_store\u001b[49m\u001b[43m,\u001b[49m\u001b[43m \u001b[49m\u001b[43mscore_threshold\u001b[49m\u001b[38;5;241;43m=\u001b[39;49m\u001b[38;5;241;43m0.5\u001b[39;49m\u001b[43m,\u001b[49m\u001b[43m \u001b[49m\u001b[43mtop_k\u001b[49m\u001b[38;5;241;43m=\u001b[39;49m\u001b[38;5;241;43m3\u001b[39;49m\u001b[43m)\u001b[49m\n\u001b[1;32m     48\u001b[0m synthesizer \u001b[38;5;241m=\u001b[39m CustomSynthesizer()\n\u001b[1;32m     50\u001b[0m llm \u001b[38;5;241m=\u001b[39m get_ollama_llm()\n",
      "File \u001b[0;32m/mnt/f/chatbot_ui_v3/src/post_retrieval_processing.py:40\u001b[0m, in \u001b[0;36mCustomPostProcessor.__init__\u001b[0;34m(self, doc_store, score_threshold, top_k)\u001b[0m\n\u001b[1;32m     39\u001b[0m \u001b[38;5;28;01mdef\u001b[39;00m\u001b[38;5;250m \u001b[39m\u001b[38;5;21m__init__\u001b[39m(\u001b[38;5;28mself\u001b[39m, doc_store, score_threshold\u001b[38;5;241m=\u001b[39m\u001b[38;5;241m0.5\u001b[39m, top_k\u001b[38;5;241m=\u001b[39m\u001b[38;5;241m5\u001b[39m):\n\u001b[0;32m---> 40\u001b[0m     \u001b[38;5;28;43mself\u001b[39;49m\u001b[38;5;241;43m.\u001b[39;49m\u001b[43mdoc_store\u001b[49m \u001b[38;5;241m=\u001b[39m doc_store\n\u001b[1;32m     41\u001b[0m     \u001b[38;5;28mself\u001b[39m\u001b[38;5;241m.\u001b[39mscore_threshold \u001b[38;5;241m=\u001b[39m score_threshold\n\u001b[1;32m     42\u001b[0m     \u001b[38;5;28mself\u001b[39m\u001b[38;5;241m.\u001b[39mtop_k \u001b[38;5;241m=\u001b[39m top_k\n",
      "File \u001b[0;32m~/.cache/pypoetry/virtualenvs/chat-bot-ui-v3-lpQW9NX5-py3.10/lib/python3.10/site-packages/pydantic/main.py:997\u001b[0m, in \u001b[0;36mBaseModel.__setattr__\u001b[0;34m(self, name, value)\u001b[0m\n\u001b[1;32m    995\u001b[0m     setattr_handler(\u001b[38;5;28mself\u001b[39m, name, value)\n\u001b[1;32m    996\u001b[0m \u001b[38;5;66;03m# if None is returned from _setattr_handler, the attribute was set directly\u001b[39;00m\n\u001b[0;32m--> 997\u001b[0m \u001b[38;5;28;01melif\u001b[39;00m (setattr_handler \u001b[38;5;241m:=\u001b[39m \u001b[38;5;28;43mself\u001b[39;49m\u001b[38;5;241;43m.\u001b[39;49m\u001b[43m_setattr_handler\u001b[49m\u001b[43m(\u001b[49m\u001b[43mname\u001b[49m\u001b[43m,\u001b[49m\u001b[43m \u001b[49m\u001b[43mvalue\u001b[49m\u001b[43m)\u001b[49m) \u001b[38;5;129;01mis\u001b[39;00m \u001b[38;5;129;01mnot\u001b[39;00m \u001b[38;5;28;01mNone\u001b[39;00m:\n\u001b[1;32m    998\u001b[0m     setattr_handler(\u001b[38;5;28mself\u001b[39m, name, value)  \u001b[38;5;66;03m# call here to not memo on possibly unknown fields\u001b[39;00m\n\u001b[1;32m    999\u001b[0m     \u001b[38;5;28mself\u001b[39m\u001b[38;5;241m.\u001b[39m__pydantic_setattr_handlers__[name] \u001b[38;5;241m=\u001b[39m setattr_handler\n",
      "File \u001b[0;32m~/.cache/pypoetry/virtualenvs/chat-bot-ui-v3-lpQW9NX5-py3.10/lib/python3.10/site-packages/pydantic/main.py:1044\u001b[0m, in \u001b[0;36mBaseModel._setattr_handler\u001b[0;34m(self, name, value)\u001b[0m\n\u001b[1;32m   1041\u001b[0m \u001b[38;5;28;01melif\u001b[39;00m name \u001b[38;5;129;01mnot\u001b[39;00m \u001b[38;5;129;01min\u001b[39;00m \u001b[38;5;28mcls\u001b[39m\u001b[38;5;241m.\u001b[39m__pydantic_fields__:\n\u001b[1;32m   1042\u001b[0m     \u001b[38;5;28;01mif\u001b[39;00m \u001b[38;5;28mcls\u001b[39m\u001b[38;5;241m.\u001b[39mmodel_config\u001b[38;5;241m.\u001b[39mget(\u001b[38;5;124m'\u001b[39m\u001b[38;5;124mextra\u001b[39m\u001b[38;5;124m'\u001b[39m) \u001b[38;5;241m!=\u001b[39m \u001b[38;5;124m'\u001b[39m\u001b[38;5;124mallow\u001b[39m\u001b[38;5;124m'\u001b[39m:\n\u001b[1;32m   1043\u001b[0m         \u001b[38;5;66;03m# TODO - matching error\u001b[39;00m\n\u001b[0;32m-> 1044\u001b[0m         \u001b[38;5;28;01mraise\u001b[39;00m \u001b[38;5;167;01mValueError\u001b[39;00m(\u001b[38;5;124mf\u001b[39m\u001b[38;5;124m'\u001b[39m\u001b[38;5;124m\"\u001b[39m\u001b[38;5;132;01m{\u001b[39;00m\u001b[38;5;28mcls\u001b[39m\u001b[38;5;241m.\u001b[39m\u001b[38;5;18m__name__\u001b[39m\u001b[38;5;132;01m}\u001b[39;00m\u001b[38;5;124m\"\u001b[39m\u001b[38;5;124m object has no field \u001b[39m\u001b[38;5;124m\"\u001b[39m\u001b[38;5;132;01m{\u001b[39;00mname\u001b[38;5;132;01m}\u001b[39;00m\u001b[38;5;124m\"\u001b[39m\u001b[38;5;124m'\u001b[39m)\n\u001b[1;32m   1045\u001b[0m     \u001b[38;5;28;01melif\u001b[39;00m attr \u001b[38;5;129;01mis\u001b[39;00m \u001b[38;5;28;01mNone\u001b[39;00m:\n\u001b[1;32m   1046\u001b[0m         \u001b[38;5;66;03m# attribute does not exist, so put it in extra\u001b[39;00m\n\u001b[1;32m   1047\u001b[0m         \u001b[38;5;28mself\u001b[39m\u001b[38;5;241m.\u001b[39m__pydantic_extra__[name] \u001b[38;5;241m=\u001b[39m value\n",
      "\u001b[0;31mValueError\u001b[0m: \"CustomPostProcessor\" object has no field \"doc_store\""
     ]
    }
   ],
   "source": [
    "agent = get_agent()"
   ]
  },
  {
   "cell_type": "code",
   "execution_count": null,
   "id": "4ff6b1b8-6656-422c-a5c8-115a1758bbac",
   "metadata": {},
   "outputs": [],
   "source": []
  },
  {
   "cell_type": "code",
   "execution_count": null,
   "id": "83547b28-6d9d-4190-96c0-3a6d0253dd6e",
   "metadata": {},
   "outputs": [],
   "source": []
  }
 ],
 "metadata": {
  "kernelspec": {
   "display_name": "Python 3 (ipykernel)",
   "language": "python",
   "name": "python3"
  },
  "language_info": {
   "codemirror_mode": {
    "name": "ipython",
    "version": 3
   },
   "file_extension": ".py",
   "mimetype": "text/x-python",
   "name": "python",
   "nbconvert_exporter": "python",
   "pygments_lexer": "ipython3",
   "version": "3.10.12"
  }
 },
 "nbformat": 4,
 "nbformat_minor": 5
}
