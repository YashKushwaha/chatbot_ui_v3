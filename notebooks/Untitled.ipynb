{
 "cells": [
  {
   "cell_type": "code",
   "execution_count": 1,
   "id": "9d25d25d-8b40-4436-bf33-05d6e94ade8c",
   "metadata": {},
   "outputs": [],
   "source": [
    "from pymongo import MongoClient"
   ]
  },
  {
   "cell_type": "code",
   "execution_count": 2,
   "id": "ffb0fd56-a7ec-477b-9221-a3ae10d6d223",
   "metadata": {},
   "outputs": [],
   "source": [
    "client = MongoClient(\"mongodb://localhost:27017/\")"
   ]
  },
  {
   "cell_type": "code",
   "execution_count": 15,
   "id": "c3741bad-80d4-40b1-8ef8-6682be4fb8b7",
   "metadata": {},
   "outputs": [
    {
     "data": {
      "text/plain": [
       "['admin', 'agent_evaluation_db', 'chatbot_ui_v3', 'config', 'local']"
      ]
     },
     "execution_count": 15,
     "metadata": {},
     "output_type": "execute_result"
    }
   ],
   "source": [
    "databases = client.list_database_names()\n",
    "databases"
   ]
  },
  {
   "cell_type": "code",
   "execution_count": null,
   "id": "303777d0-144c-42f2-9b6f-792d90b92510",
   "metadata": {},
   "outputs": [],
   "source": []
  },
  {
   "cell_type": "code",
   "execution_count": 17,
   "id": "51a190fe-bd37-47c3-8c18-569895d6df1c",
   "metadata": {},
   "outputs": [
    {
     "name": "stdout",
     "output_type": "stream",
     "text": [
      "context 19029\n",
      "qna 130319\n"
     ]
    }
   ],
   "source": [
    "database = client[\"chatbot_ui_v3\"]\n",
    "collection_list = database.list_collections()\n",
    "for c in collection_list:\n",
    "    print(c['name'],  database[c['name']].count_documents({}))"
   ]
  },
  {
   "cell_type": "code",
   "execution_count": 13,
   "id": "e0343eaa-6025-4950-b399-a81318e20c8f",
   "metadata": {},
   "outputs": [],
   "source": [
    "#client.drop_database('chatbot_ui_v3')"
   ]
  },
  {
   "cell_type": "code",
   "execution_count": 20,
   "id": "e8d8c676-1fd3-41ff-93a6-da78016595f9",
   "metadata": {},
   "outputs": [
    {
     "name": "stdout",
     "output_type": "stream",
     "text": [
      "context\n",
      "-----\n",
      "{'_id': ObjectId('6867ede60402e613c63ab4e7'), 'context_hash': '5566f9c0998385b8a8a2c94aa64aa980', 'context': 'Beyoncé Giselle Knowles-Carter (/biːˈjɒnseɪ/ bee-YON-say) (born September 4, 1981) is an American singer, songwriter, record producer and actress. Born and raised in Houston, Texas, she performed in various singing and dancing competitions as a child, and rose to fame in the late 1990s as lead singer of R&B girl-group Destiny\\'s Child. Managed by her father, Mathew Knowles, the group became one of the world\\'s best-selling girl groups of all time. Their hiatus saw the release of Beyoncé\\'s debut album, Dangerously in Love (2003), which established her as a solo artist worldwide, earned five Grammy Awards and featured the Billboard Hot 100 number-one singles \"Crazy in Love\" and \"Baby Boy\".', 'title': 'Beyoncé'}\n",
      "qna\n",
      "-----\n",
      "{'_id': ObjectId('6867ef49c372b87e491b032f'), 'id': '56be85543aeaaa14008c9063', 'answer': 'in the late 1990s', 'context_hash': '5566f9c0998385b8a8a2c94aa64aa980', 'question': 'When did Beyonce start becoming popular?', 'title': 'Beyoncé'}\n"
     ]
    }
   ],
   "source": [
    "database = client[\"chatbot_ui_v3\"]\n",
    "collection_list = database.list_collections()\n",
    "for c in collection_list:\n",
    "    print(c['name'])\n",
    "    print(5*'-')\n",
    "    for docs in database[c['name']].find().limit(1):\n",
    "        print(docs)"
   ]
  }
 ],
 "metadata": {
  "kernelspec": {
   "display_name": "Python 3 (ipykernel)",
   "language": "python",
   "name": "python3"
  },
  "language_info": {
   "codemirror_mode": {
    "name": "ipython",
    "version": 3
   },
   "file_extension": ".py",
   "mimetype": "text/x-python",
   "name": "python",
   "nbconvert_exporter": "python",
   "pygments_lexer": "ipython3",
   "version": "3.10.12"
  }
 },
 "nbformat": 4,
 "nbformat_minor": 5
}
