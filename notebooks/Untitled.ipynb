{
 "cells": [
  {
   "cell_type": "code",
   "execution_count": 1,
   "id": "6361d55c-6c0d-48b3-b78b-800bd0230a32",
   "metadata": {},
   "outputs": [],
   "source": [
    "import os\n",
    "PROJECT_ROOT = os.path.abspath(os.path.join(os.getcwd(), '..'))\n",
    "os.chdir(PROJECT_ROOT)"
   ]
  },
  {
   "cell_type": "code",
   "execution_count": 2,
   "id": "f9367c8b-56ab-4342-827d-3c580eb18ba9",
   "metadata": {},
   "outputs": [
    {
     "name": "stderr",
     "output_type": "stream",
     "text": [
      "/root/.cache/pypoetry/virtualenvs/chat-bot-ui-v3-lpQW9NX5-py3.10/lib/python3.10/site-packages/pydantic/_internal/_generate_schema.py:628: UserWarning: <built-in function any> is not a Python type (it may be an instance of an object), Pydantic will allow any object with no validation since we cannot even enforce that the input is an instance of the given type. To get rid of this error wrap the type with `pydantic.SkipValidation`.\n",
      "  warn(\n"
     ]
    }
   ],
   "source": [
    "from src.custom_agent import get_agent"
   ]
  },
  {
   "cell_type": "code",
   "execution_count": 3,
   "id": "e9b40c0e-5452-4d91-b52e-b8ff716108ae",
   "metadata": {},
   "outputs": [
    {
     "ename": "TypeError",
     "evalue": "AgentRunner.__init__() got an unexpected keyword argument 'tools'",
     "output_type": "error",
     "traceback": [
      "\u001b[0;31m---------------------------------------------------------------------------\u001b[0m",
      "\u001b[0;31mTypeError\u001b[0m                                 Traceback (most recent call last)",
      "Cell \u001b[0;32mIn[3], line 1\u001b[0m\n\u001b[0;32m----> 1\u001b[0m agent \u001b[38;5;241m=\u001b[39m \u001b[43mget_agent\u001b[49m\u001b[43m(\u001b[49m\u001b[43m)\u001b[49m\n",
      "File \u001b[0;32m/mnt/f/chatbot_ui_v3/src/custom_agent.py:53\u001b[0m, in \u001b[0;36mget_agent\u001b[0;34m()\u001b[0m\n\u001b[1;32m     50\u001b[0m llm \u001b[38;5;241m=\u001b[39m get_ollama_llm()\n\u001b[1;32m     52\u001b[0m rag_tool \u001b[38;5;241m=\u001b[39m RAGTool(retriever, postprocessor, synthesizer, llm)\n\u001b[0;32m---> 53\u001b[0m agent \u001b[38;5;241m=\u001b[39m \u001b[43mAgentRunner\u001b[49m\u001b[43m(\u001b[49m\u001b[43mtools\u001b[49m\u001b[38;5;241;43m=\u001b[39;49m\u001b[43m[\u001b[49m\u001b[43mrag_tool\u001b[49m\u001b[43m]\u001b[49m\u001b[43m)\u001b[49m\n\u001b[1;32m     54\u001b[0m \u001b[38;5;28;01mreturn\u001b[39;00m agent\n",
      "\u001b[0;31mTypeError\u001b[0m: AgentRunner.__init__() got an unexpected keyword argument 'tools'"
     ]
    }
   ],
   "source": [
    "agent = get_agent()"
   ]
  },
  {
   "cell_type": "code",
   "execution_count": null,
   "id": "4ff6b1b8-6656-422c-a5c8-115a1758bbac",
   "metadata": {},
   "outputs": [],
   "source": []
  },
  {
   "cell_type": "code",
   "execution_count": null,
   "id": "83547b28-6d9d-4190-96c0-3a6d0253dd6e",
   "metadata": {},
   "outputs": [],
   "source": []
  }
 ],
 "metadata": {
  "kernelspec": {
   "display_name": "Python 3 (ipykernel)",
   "language": "python",
   "name": "python3"
  },
  "language_info": {
   "codemirror_mode": {
    "name": "ipython",
    "version": 3
   },
   "file_extension": ".py",
   "mimetype": "text/x-python",
   "name": "python",
   "nbconvert_exporter": "python",
   "pygments_lexer": "ipython3",
   "version": "3.10.12"
  }
 },
 "nbformat": 4,
 "nbformat_minor": 5
}
