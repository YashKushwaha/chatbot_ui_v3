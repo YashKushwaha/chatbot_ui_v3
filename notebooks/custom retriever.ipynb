{
 "cells": [
  {
   "cell_type": "code",
   "execution_count": 1,
   "id": "0f5c1826-4791-44c7-b579-a5f6157662cb",
   "metadata": {},
   "outputs": [],
   "source": [
    "from llama_index.vector_stores.chroma import ChromaVectorStore\n",
    "\n",
    "from llama_index.core.retrievers import VectorIndexRetriever\n",
    "from llama_index.core import VectorStoreIndex\n",
    "from llama_index.core.retrievers import BaseRetriever\n",
    "from llama_index.core.vector_stores.types import VectorStoreQuery\n"
   ]
  },
  {
   "cell_type": "code",
   "execution_count": 4,
   "id": "827b61af-5519-4271-ae2d-113dc284ef7f",
   "metadata": {},
   "outputs": [],
   "source": [
    "import os\n",
    "PROJECT_ROOT = os.path.abspath(os.path.join(os.getcwd(), '..'))\n",
    "os.chdir(PROJECT_ROOT)"
   ]
  },
  {
   "cell_type": "code",
   "execution_count": 5,
   "id": "d18d3bce-02dd-423a-8434-686fc969a057",
   "metadata": {},
   "outputs": [],
   "source": [
    "from src.embedding_client import RemoteEmbedding\n",
    "EMBEDDING_SERVER_PORT = 8020\n",
    "embed_model = RemoteEmbedding(f\"http://localhost:{EMBEDDING_SERVER_PORT}\")"
   ]
  },
  {
   "cell_type": "code",
   "execution_count": 6,
   "id": "3cdac2b6-877c-4f4f-97b0-6429f93cf404",
   "metadata": {},
   "outputs": [],
   "source": [
    "import chromadb\n",
    "CHROMA_DB_PORT = 8010\n",
    "def get_chroma_db_client():\n",
    "    client = chromadb.HttpClient(\n",
    "        host=\"localhost\",\n",
    "        port=int(CHROMA_DB_PORT))\n",
    "    return client"
   ]
  },
  {
   "cell_type": "code",
   "execution_count": 9,
   "id": "6f2288fe-75b5-46fc-a229-d3043b50b85d",
   "metadata": {},
   "outputs": [],
   "source": [
    "client = get_chroma_db_client()"
   ]
  },
  {
   "cell_type": "code",
   "execution_count": 10,
   "id": "866f340c-7bb7-4c47-a07c-20e23907a906",
   "metadata": {},
   "outputs": [],
   "source": [
    "qna_collection = client.get_collection('qna')\n",
    "vec_store_qna = ChromaVectorStore(chroma_collection = qna_collection)\n",
    "\n",
    "context_collection = client.get_collection('context')\n",
    "vec_store_context = ChromaVectorStore(chroma_collection = context_collection)"
   ]
  },
  {
   "cell_type": "code",
   "execution_count": 25,
   "id": "87b58c7e-e0ec-47bc-bb57-32a7fb2159c1",
   "metadata": {},
   "outputs": [
    {
     "name": "stdout",
     "output_type": "stream",
     "text": [
      "Help on method from_vector_store in module llama_index.core.indices.vector_store.base:\n",
      "\n",
      "from_vector_store(vector_store: llama_index.core.vector_stores.types.BasePydanticVectorStore, embed_model: Union[llama_index.core.base.embeddings.base.BaseEmbedding, ForwardRef('LCEmbeddings'), str, NoneType] = None, **kwargs: Any) -> 'VectorStoreIndex' method of abc.ABCMeta instance\n",
      "\n"
     ]
    }
   ],
   "source": [
    "help(VectorStoreIndex.from_vector_store)"
   ]
  },
  {
   "cell_type": "code",
   "execution_count": 15,
   "id": "91293076-013b-46b0-bc05-b09799ae0e34",
   "metadata": {},
   "outputs": [],
   "source": [
    "qna_index = VectorStoreIndex.from_vector_store(vec_store_qna, embed_model=embed_model)\n",
    "context_index = VectorStoreIndex.from_vector_store(vec_store_context, embed_model=embed_model)"
   ]
  },
  {
   "cell_type": "code",
   "execution_count": 17,
   "id": "b3952ccd-3fcc-468b-a4f2-efb51de414f2",
   "metadata": {},
   "outputs": [],
   "source": [
    "qna_retriever = VectorIndexRetriever(\n",
    "    index=qna_index, \n",
    "    similarity_top_k=3\n",
    ")\n",
    "\n",
    "context_retriever = VectorIndexRetriever(\n",
    "    index=context_index, \n",
    "    similarity_top_k=3\n",
    ")\n",
    "\n",
    "retriever_list = [qna_retriever, context_retriever]"
   ]
  },
  {
   "cell_type": "code",
   "execution_count": 20,
   "id": "d358d359-82f4-41c8-a0ee-7989dda3b692",
   "metadata": {},
   "outputs": [],
   "source": []
  },
  {
   "cell_type": "code",
   "execution_count": 19,
   "id": "bcc95f26-6622-48de-bd36-3c0d739b188c",
   "metadata": {},
   "outputs": [],
   "source": [
    "class SQUAD_DATA_RETRIEVER(BaseRetriever):\n",
    "    def __init__(self, retriever_list):\n",
    "        self.retriever_list = retriever_list\n",
    "\n",
    "    def _retrieve(self, query):\n",
    "        result = []\n",
    "        for retriever in self.retriever_list:\n",
    "            nodes = retriever.retrieve(query)\n",
    "            result+=nodes\n",
    "        return result"
   ]
  },
  {
   "cell_type": "code",
   "execution_count": 21,
   "id": "7d5bef8b-7224-4edf-9df6-10677f7c29a5",
   "metadata": {},
   "outputs": [],
   "source": [
    "squad_retriever = SQUAD_DATA_RETRIEVER(retriever_list)"
   ]
  },
  {
   "cell_type": "code",
   "execution_count": 22,
   "id": "a3304d2c-6bbc-4181-9b11-2bca81eeac0a",
   "metadata": {},
   "outputs": [],
   "source": [
    "query = 'Where did beyonce grow up?'\n",
    "nodes = squad_retriever.retrieve(query)"
   ]
  },
  {
   "cell_type": "code",
   "execution_count": 24,
   "id": "99b3eab9-6b07-4dd9-bcff-112b54800b81",
   "metadata": {},
   "outputs": [
    {
     "data": {
      "text/plain": [
       "NodeWithScore(node=TextNode(id_='56bf6b0f3aeaaa14008c9601', embedding=None, metadata={'context_hash': '5566f9c0998385b8a8a2c94aa64aa980', 'database': 'chatbot_ui_v3', 'collection': 'qna', 'answer': 'Houston, Texas', 'title': 'Beyoncé'}, excluded_embed_metadata_keys=[], excluded_llm_metadata_keys=[], relationships={}, metadata_template='{key}: {value}', metadata_separator='\\n', text='In what city and state did Beyonce  grow up? ', mimetype='text/plain', start_char_idx=None, end_char_idx=None, metadata_seperator='\\n', text_template='{metadata_str}\\n\\n{content}'), score=0.8588517725815735)"
      ]
     },
     "execution_count": 24,
     "metadata": {},
     "output_type": "execute_result"
    }
   ],
   "source": [
    "nodes[0]"
   ]
  },
  {
   "cell_type": "code",
   "execution_count": 26,
   "id": "a525b949-6890-4639-8001-be9af5c48b26",
   "metadata": {},
   "outputs": [],
   "source": [
    "from src.retriever import SQUAD_DATA_RETRIEVER"
   ]
  },
  {
   "cell_type": "code",
   "execution_count": 27,
   "id": "b2188126-f400-46fb-bb31-8d1490530edb",
   "metadata": {},
   "outputs": [],
   "source": [
    "retriever = SQUAD_DATA_RETRIEVER(client, ['qna', 'context'], embed_model, 3 )"
   ]
  },
  {
   "cell_type": "code",
   "execution_count": 28,
   "id": "f7a33025-dcf1-4bdc-a588-3064994eae3c",
   "metadata": {},
   "outputs": [],
   "source": [
    "result = retriever.retrieve(query)"
   ]
  },
  {
   "cell_type": "code",
   "execution_count": 29,
   "id": "5cada3f2-2767-4b56-ae77-4f0b6889b7cb",
   "metadata": {},
   "outputs": [
    {
     "data": {
      "text/plain": [
       "[NodeWithScore(node=TextNode(id_='56bf6b0f3aeaaa14008c9601', embedding=None, metadata={'database': 'chatbot_ui_v3', 'collection': 'qna', 'title': 'Beyoncé', 'answer': 'Houston, Texas', 'context_hash': '5566f9c0998385b8a8a2c94aa64aa980'}, excluded_embed_metadata_keys=[], excluded_llm_metadata_keys=[], relationships={}, metadata_template='{key}: {value}', metadata_separator='\\n', text='In what city and state did Beyonce  grow up? ', mimetype='text/plain', start_char_idx=None, end_char_idx=None, metadata_seperator='\\n', text_template='{metadata_str}\\n\\n{content}'), score=0.8588517725815735),\n",
       " NodeWithScore(node=TextNode(id_='56be85543aeaaa14008c9065', embedding=None, metadata={'answer': 'singing and dancing', 'title': 'Beyoncé', 'collection': 'qna', 'context_hash': '5566f9c0998385b8a8a2c94aa64aa980', 'database': 'chatbot_ui_v3'}, excluded_embed_metadata_keys=[], excluded_llm_metadata_keys=[], relationships={}, metadata_template='{key}: {value}', metadata_separator='\\n', text='What areas did Beyonce compete in when she was growing up?', mimetype='text/plain', start_char_idx=None, end_char_idx=None, metadata_seperator='\\n', text_template='{metadata_str}\\n\\n{content}'), score=0.7284380971383865),\n",
       " NodeWithScore(node=TextNode(id_='56d43c5f2ccc5a1400d830a9', embedding=None, metadata={'database': 'chatbot_ui_v3', 'answer': 'late 1990s', 'title': 'Beyoncé', 'collection': 'qna', 'context_hash': '5566f9c0998385b8a8a2c94aa64aa980'}, excluded_embed_metadata_keys=[], excluded_llm_metadata_keys=[], relationships={}, metadata_template='{key}: {value}', metadata_separator='\\n', text='When did Beyoncé rise to fame?', mimetype='text/plain', start_char_idx=None, end_char_idx=None, metadata_seperator='\\n', text_template='{metadata_str}\\n\\n{content}'), score=0.6890149087215783),\n",
       " NodeWithScore(node=TextNode(id_='f43752de47803d959a74690e1989544d', embedding=None, metadata={'database': 'chatbot_ui_v3', 'collection': 'context', 'title': 'Beyoncé', 'context_hash': 'f43752de47803d959a74690e1989544d'}, excluded_embed_metadata_keys=[], excluded_llm_metadata_keys=[], relationships={}, metadata_template='{key}: {value}', metadata_separator='\\n', text=\"On January 7, 2012, Beyoncé gave birth to her first child, a daughter, Blue Ivy Carter, at Lenox Hill Hospital in New York. Five months later, she performed for four nights at Revel Atlantic City's Ovation Hall to celebrate the resort's opening, her first performances since giving birth to Blue Ivy.\", mimetype='text/plain', start_char_idx=None, end_char_idx=None, metadata_seperator='\\n', text_template='{metadata_str}\\n\\n{content}'), score=0.4292344954285744),\n",
       " NodeWithScore(node=TextNode(id_='9416bece77bd0d876cb5ac8df8bd4ad5', embedding=None, metadata={'collection': 'context', 'title': 'Beyoncé', 'database': 'chatbot_ui_v3', 'context_hash': '9416bece77bd0d876cb5ac8df8bd4ad5'}, excluded_embed_metadata_keys=[], excluded_llm_metadata_keys=[], relationships={}, metadata_template='{key}: {value}', metadata_separator='\\n', text='Beyoncé Giselle Knowles was born in Houston, Texas, to Celestine Ann \"Tina\" Knowles (née Beyincé), a hairdresser and salon owner, and Mathew Knowles, a Xerox sales manager. Beyoncé\\'s name is a tribute to her mother\\'s maiden name. Beyoncé\\'s younger sister Solange is also a singer and a former member of Destiny\\'s Child. Mathew is African-American, while Tina is of Louisiana Creole descent (with African, Native American, French, Cajun, and distant Irish and Spanish ancestry). Through her mother, Beyoncé is a descendant of Acadian leader Joseph Broussard. She was raised in a Methodist household.', mimetype='text/plain', start_char_idx=None, end_char_idx=None, metadata_seperator='\\n', text_template='{metadata_str}\\n\\n{content}'), score=0.4245681857920706),\n",
       " NodeWithScore(node=TextNode(id_='efc9b773f72c1de48dfbebfc96777d69', embedding=None, metadata={'title': 'Beyoncé', 'collection': 'context', 'database': 'chatbot_ui_v3', 'context_hash': 'efc9b773f72c1de48dfbebfc96777d69'}, excluded_embed_metadata_keys=[], excluded_llm_metadata_keys=[], relationships={}, metadata_template='{key}: {value}', metadata_separator='\\n', text='Beyoncé announced a hiatus from her music career in January 2010, heeding her mother\\'s advice, \"to live life, to be inspired by things again\". During the break she and her father parted ways as business partners. Beyoncé\\'s musical break lasted nine months and saw her visit multiple European cities, the Great Wall of China, the Egyptian pyramids, Australia, English music festivals and various museums and ballet performances.', mimetype='text/plain', start_char_idx=None, end_char_idx=None, metadata_seperator='\\n', text_template='{metadata_str}\\n\\n{content}'), score=0.40793097410741114)]"
      ]
     },
     "execution_count": 29,
     "metadata": {},
     "output_type": "execute_result"
    }
   ],
   "source": [
    "result"
   ]
  },
  {
   "cell_type": "code",
   "execution_count": 30,
   "id": "96cbe766-9ce3-4d27-a835-d6c4c7bbd39d",
   "metadata": {},
   "outputs": [],
   "source": [
    "filtered_nodes = [n for n in result if n.score and n.score >= 0.5]\n"
   ]
  },
  {
   "cell_type": "code",
   "execution_count": 31,
   "id": "88b18175-ee7a-4294-8473-9389de28424c",
   "metadata": {},
   "outputs": [
    {
     "data": {
      "text/plain": [
       "[NodeWithScore(node=TextNode(id_='56bf6b0f3aeaaa14008c9601', embedding=None, metadata={'database': 'chatbot_ui_v3', 'collection': 'qna', 'title': 'Beyoncé', 'answer': 'Houston, Texas', 'context_hash': '5566f9c0998385b8a8a2c94aa64aa980'}, excluded_embed_metadata_keys=[], excluded_llm_metadata_keys=[], relationships={}, metadata_template='{key}: {value}', metadata_separator='\\n', text='In what city and state did Beyonce  grow up? ', mimetype='text/plain', start_char_idx=None, end_char_idx=None, metadata_seperator='\\n', text_template='{metadata_str}\\n\\n{content}'), score=0.8588517725815735),\n",
       " NodeWithScore(node=TextNode(id_='56be85543aeaaa14008c9065', embedding=None, metadata={'answer': 'singing and dancing', 'title': 'Beyoncé', 'collection': 'qna', 'context_hash': '5566f9c0998385b8a8a2c94aa64aa980', 'database': 'chatbot_ui_v3'}, excluded_embed_metadata_keys=[], excluded_llm_metadata_keys=[], relationships={}, metadata_template='{key}: {value}', metadata_separator='\\n', text='What areas did Beyonce compete in when she was growing up?', mimetype='text/plain', start_char_idx=None, end_char_idx=None, metadata_seperator='\\n', text_template='{metadata_str}\\n\\n{content}'), score=0.7284380971383865),\n",
       " NodeWithScore(node=TextNode(id_='56d43c5f2ccc5a1400d830a9', embedding=None, metadata={'database': 'chatbot_ui_v3', 'answer': 'late 1990s', 'title': 'Beyoncé', 'collection': 'qna', 'context_hash': '5566f9c0998385b8a8a2c94aa64aa980'}, excluded_embed_metadata_keys=[], excluded_llm_metadata_keys=[], relationships={}, metadata_template='{key}: {value}', metadata_separator='\\n', text='When did Beyoncé rise to fame?', mimetype='text/plain', start_char_idx=None, end_char_idx=None, metadata_seperator='\\n', text_template='{metadata_str}\\n\\n{content}'), score=0.6890149087215783)]"
      ]
     },
     "execution_count": 31,
     "metadata": {},
     "output_type": "execute_result"
    }
   ],
   "source": [
    "filtered_nodes"
   ]
  },
  {
   "cell_type": "code",
   "execution_count": 33,
   "id": "924c490c-068a-409f-b3c0-492cb53546f3",
   "metadata": {},
   "outputs": [
    {
     "name": "stdout",
     "output_type": "stream",
     "text": [
      "{'database': 'chatbot_ui_v3', 'collection': 'qna', 'title': 'Beyoncé', 'answer': 'Houston, Texas', 'context_hash': '5566f9c0998385b8a8a2c94aa64aa980'}\n",
      "-----\n",
      "{'answer': 'singing and dancing', 'title': 'Beyoncé', 'collection': 'qna', 'context_hash': '5566f9c0998385b8a8a2c94aa64aa980', 'database': 'chatbot_ui_v3'}\n",
      "-----\n",
      "{'database': 'chatbot_ui_v3', 'answer': 'late 1990s', 'title': 'Beyoncé', 'collection': 'qna', 'context_hash': '5566f9c0998385b8a8a2c94aa64aa980'}\n",
      "-----\n"
     ]
    }
   ],
   "source": [
    "for node in filtered_nodes:\n",
    "    print(node.metadata)\n",
    "    print(5*'-')"
   ]
  },
  {
   "cell_type": "code",
   "execution_count": 34,
   "id": "3f746a37-ddd2-4b16-b03f-0af8aef7a2fc",
   "metadata": {},
   "outputs": [
    {
     "name": "stdout",
     "output_type": "stream",
     "text": [
      "{'node': TextNode(id_='56bf6b0f3aeaaa14008c9601', embedding=None, metadata={'database': 'chatbot_ui_v3', 'collection': 'qna', 'title': 'Beyoncé', 'answer': 'Houston, Texas', 'context_hash': '5566f9c0998385b8a8a2c94aa64aa980'}, excluded_embed_metadata_keys=[], excluded_llm_metadata_keys=[], relationships={}, metadata_template='{key}: {value}', metadata_separator='\\n', text='In what city and state did Beyonce  grow up? ', mimetype='text/plain', start_char_idx=None, end_char_idx=None, metadata_seperator='\\n', text_template='{metadata_str}\\n\\n{content}'), 'score': 0.8588517725815735}\n",
      "-----\n",
      "{'node': TextNode(id_='56be85543aeaaa14008c9065', embedding=None, metadata={'answer': 'singing and dancing', 'title': 'Beyoncé', 'collection': 'qna', 'context_hash': '5566f9c0998385b8a8a2c94aa64aa980', 'database': 'chatbot_ui_v3'}, excluded_embed_metadata_keys=[], excluded_llm_metadata_keys=[], relationships={}, metadata_template='{key}: {value}', metadata_separator='\\n', text='What areas did Beyonce compete in when she was growing up?', mimetype='text/plain', start_char_idx=None, end_char_idx=None, metadata_seperator='\\n', text_template='{metadata_str}\\n\\n{content}'), 'score': 0.7284380971383865}\n",
      "-----\n",
      "{'node': TextNode(id_='56d43c5f2ccc5a1400d830a9', embedding=None, metadata={'database': 'chatbot_ui_v3', 'answer': 'late 1990s', 'title': 'Beyoncé', 'collection': 'qna', 'context_hash': '5566f9c0998385b8a8a2c94aa64aa980'}, excluded_embed_metadata_keys=[], excluded_llm_metadata_keys=[], relationships={}, metadata_template='{key}: {value}', metadata_separator='\\n', text='When did Beyoncé rise to fame?', mimetype='text/plain', start_char_idx=None, end_char_idx=None, metadata_seperator='\\n', text_template='{metadata_str}\\n\\n{content}'), 'score': 0.6890149087215783}\n",
      "-----\n"
     ]
    }
   ],
   "source": [
    "for node in filtered_nodes:\n",
    "    print(node.__dict__)\n",
    "    print(5*'-')"
   ]
  },
  {
   "cell_type": "code",
   "execution_count": 37,
   "id": "e3929504-3425-4a0c-91da-f659ecab427c",
   "metadata": {},
   "outputs": [
    {
     "name": "stdout",
     "output_type": "stream",
     "text": [
      "node\n",
      "-----\n",
      "Node ID: 56d43c5f2ccc5a1400d830a9\n",
      "Text: When did Beyoncé rise to fame?\n",
      "=====\n",
      "score\n",
      "-----\n",
      "0.6890149087215783\n",
      "=====\n"
     ]
    }
   ],
   "source": [
    "for i,j in node.__dict__.items():\n",
    "    print(i)\n",
    "    print(5*'-')\n",
    "    print(j)\n",
    "    print(5*'=')"
   ]
  },
  {
   "cell_type": "code",
   "execution_count": 38,
   "id": "80aecaf5-c9e4-4a94-be26-922c1ebf748f",
   "metadata": {},
   "outputs": [],
   "source": [
    "from pymongo import MongoClient\n",
    "def get_mongo_db_client():\n",
    "    client = MongoClient(\"mongodb://localhost:27017/\")\n",
    "    assert client.admin.command(\"ping\") == {'ok': 1.0}\n",
    "    return client\n",
    "\n",
    "mongo_db_client = get_mongo_db_client()"
   ]
  },
  {
   "cell_type": "code",
   "execution_count": 48,
   "id": "74c6fd80-f925-46c2-8dcc-cd511a451d1f",
   "metadata": {},
   "outputs": [],
   "source": [
    "def get_context(context_hash, collection):\n",
    "    for i in collection.find(dict(context_hash=context_hash)):\n",
    "        return i['context']\n",
    "    "
   ]
  },
  {
   "cell_type": "code",
   "execution_count": 50,
   "id": "dbbcc5fb-9314-4cd2-88ca-fea37a5673ce",
   "metadata": {},
   "outputs": [
    {
     "name": "stdout",
     "output_type": "stream",
     "text": [
      "Beyoncé Giselle Knowles-Carter (/biːˈjɒnseɪ/ bee-YON-say) (born September 4, 1981) is an American singer, songwriter, record producer and actress. Born and raised in Houston, Texas, she performed in various singing and dancing competitions as a child, and rose to fame in the late 1990s as lead singer of R&B girl-group Destiny's Child. Managed by her father, Mathew Knowles, the group became one of the world's best-selling girl groups of all time. Their hiatus saw the release of Beyoncé's debut album, Dangerously in Love (2003), which established her as a solo artist worldwide, earned five Grammy Awards and featured the Billboard Hot 100 number-one singles \"Crazy in Love\" and \"Baby Boy\".\n",
      "=====\n",
      "Beyoncé Giselle Knowles-Carter (/biːˈjɒnseɪ/ bee-YON-say) (born September 4, 1981) is an American singer, songwriter, record producer and actress. Born and raised in Houston, Texas, she performed in various singing and dancing competitions as a child, and rose to fame in the late 1990s as lead singer of R&B girl-group Destiny's Child. Managed by her father, Mathew Knowles, the group became one of the world's best-selling girl groups of all time. Their hiatus saw the release of Beyoncé's debut album, Dangerously in Love (2003), which established her as a solo artist worldwide, earned five Grammy Awards and featured the Billboard Hot 100 number-one singles \"Crazy in Love\" and \"Baby Boy\".\n",
      "=====\n",
      "Beyoncé Giselle Knowles-Carter (/biːˈjɒnseɪ/ bee-YON-say) (born September 4, 1981) is an American singer, songwriter, record producer and actress. Born and raised in Houston, Texas, she performed in various singing and dancing competitions as a child, and rose to fame in the late 1990s as lead singer of R&B girl-group Destiny's Child. Managed by her father, Mathew Knowles, the group became one of the world's best-selling girl groups of all time. Their hiatus saw the release of Beyoncé's debut album, Dangerously in Love (2003), which established her as a solo artist worldwide, earned five Grammy Awards and featured the Billboard Hot 100 number-one singles \"Crazy in Love\" and \"Baby Boy\".\n",
      "=====\n"
     ]
    }
   ],
   "source": [
    "for node in filtered_nodes:\n",
    "    if node.metadata.get('collection') == 'qna':\n",
    "        database = node.metadata.get('database')\n",
    "        collection = mongo_db_client[database]['context']\n",
    "        context_hash = node.metadata.get('context_hash')\n",
    "        context = get_context(context_hash, collection)\n",
    "        print(context)\n",
    "        print(5*'=')"
   ]
  },
  {
   "cell_type": "code",
   "execution_count": 51,
   "id": "58aefc06-5f29-4487-9d31-140991162c5e",
   "metadata": {},
   "outputs": [],
   "source": [
    "context_to_lookup = {i.metadata['context_hash'] for i in filtered_nodes if i.metadata.get('collection') == 'qna'}"
   ]
  },
  {
   "cell_type": "code",
   "execution_count": 52,
   "id": "a4fd5768-4671-4f20-bd28-02ad562449ef",
   "metadata": {},
   "outputs": [
    {
     "data": {
      "text/plain": [
       "{'5566f9c0998385b8a8a2c94aa64aa980'}"
      ]
     },
     "execution_count": 52,
     "metadata": {},
     "output_type": "execute_result"
    }
   ],
   "source": [
    "context_to_lookup"
   ]
  },
  {
   "cell_type": "code",
   "execution_count": 45,
   "id": "03968d8e-e2ae-46d6-a52a-b44ebf6dc00f",
   "metadata": {},
   "outputs": [
    {
     "name": "stdout",
     "output_type": "stream",
     "text": [
      "{'_id': ObjectId('6867ede60402e613c63ab4e7'), 'context_hash': '5566f9c0998385b8a8a2c94aa64aa980', 'context': 'Beyoncé Giselle Knowles-Carter (/biːˈjɒnseɪ/ bee-YON-say) (born September 4, 1981) is an American singer, songwriter, record producer and actress. Born and raised in Houston, Texas, she performed in various singing and dancing competitions as a child, and rose to fame in the late 1990s as lead singer of R&B girl-group Destiny\\'s Child. Managed by her father, Mathew Knowles, the group became one of the world\\'s best-selling girl groups of all time. Their hiatus saw the release of Beyoncé\\'s debut album, Dangerously in Love (2003), which established her as a solo artist worldwide, earned five Grammy Awards and featured the Billboard Hot 100 number-one singles \"Crazy in Love\" and \"Baby Boy\".', 'title': 'Beyoncé'}\n"
     ]
    }
   ],
   "source": [
    "for i in mongo_db_client[database][collection].find(dict(context_hash=context_hash)):\n",
    "    print(i)"
   ]
  }
 ],
 "metadata": {
  "kernelspec": {
   "display_name": "Python 3 (ipykernel)",
   "language": "python",
   "name": "python3"
  },
  "language_info": {
   "codemirror_mode": {
    "name": "ipython",
    "version": 3
   },
   "file_extension": ".py",
   "mimetype": "text/x-python",
   "name": "python",
   "nbconvert_exporter": "python",
   "pygments_lexer": "ipython3",
   "version": "3.10.12"
  }
 },
 "nbformat": 4,
 "nbformat_minor": 5
}
